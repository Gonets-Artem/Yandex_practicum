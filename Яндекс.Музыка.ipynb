{
 "cells": [
  {
   "cell_type": "markdown",
   "metadata": {
    "colab_type": "text",
    "deletable": false,
    "editable": false,
    "id": "5UYxO1GdF6Wy",
    "tags": [
     "f6c88c58-a82b-4f28-8bd6-fd55c0017917"
    ]
   },
   "source": [
    "# Этап 1. Получение данных"
   ]
  },
  {
   "cell_type": "markdown",
   "metadata": {
    "colab_type": "text",
    "deletable": false,
    "id": "iI4ITclJaFWh"
   },
   "source": [
    "Изучим данные, предоставленные сервисом для проекта."
   ]
  },
  {
   "cell_type": "markdown",
   "metadata": {
    "colab_type": "text",
    "deletable": false,
    "id": "0skiEFxDZ0Tr"
   },
   "source": [
    "## Импорт библиотек"
   ]
  },
  {
   "cell_type": "code",
   "execution_count": 91,
   "metadata": {
    "colab": {},
    "colab_type": "code",
    "deletable": false,
    "id": "HirRov5vZ3MT"
   },
   "outputs": [],
   "source": [
    "import pandas as pd"
   ]
  },
  {
   "cell_type": "markdown",
   "metadata": {
    "colab_type": "text",
    "deletable": false,
    "id": "Tr8dl3PWGFIk"
   },
   "source": [
    "Прочитаем файл *music_project.csv* и сохраним его в переменной *df*. "
   ]
  },
  {
   "cell_type": "code",
   "execution_count": 92,
   "metadata": {
    "colab": {},
    "colab_type": "code",
    "deletable": false,
    "id": "NB6j931yS4hy"
   },
   "outputs": [],
   "source": [
    "df = pd.read_csv('/datasets/music_project.csv')"
   ]
  },
  {
   "cell_type": "markdown",
   "metadata": {
    "colab_type": "text",
    "deletable": false,
    "editable": false,
    "id": "y2usmNMlDLbY",
    "tags": [
     "f3a2f13f-d110-4558-a520-4805b5bd1dfe"
    ]
   },
   "source": [
    "Получение первых 10 строк таблицы."
   ]
  },
  {
   "cell_type": "code",
   "execution_count": 93,
   "metadata": {
    "colab": {},
    "colab_type": "code",
    "deletable": false,
    "id": "DY5i8tgXVDGj"
   },
   "outputs": [
    {
     "data": {
      "text/html": [
       "<div>\n",
       "<style scoped>\n",
       "    .dataframe tbody tr th:only-of-type {\n",
       "        vertical-align: middle;\n",
       "    }\n",
       "\n",
       "    .dataframe tbody tr th {\n",
       "        vertical-align: top;\n",
       "    }\n",
       "\n",
       "    .dataframe thead th {\n",
       "        text-align: right;\n",
       "    }\n",
       "</style>\n",
       "<table border=\"1\" class=\"dataframe\">\n",
       "  <thead>\n",
       "    <tr style=\"text-align: right;\">\n",
       "      <th></th>\n",
       "      <th>userID</th>\n",
       "      <th>Track</th>\n",
       "      <th>artist</th>\n",
       "      <th>genre</th>\n",
       "      <th>City</th>\n",
       "      <th>time</th>\n",
       "      <th>Day</th>\n",
       "    </tr>\n",
       "  </thead>\n",
       "  <tbody>\n",
       "    <tr>\n",
       "      <td>0</td>\n",
       "      <td>FFB692EC</td>\n",
       "      <td>Kamigata To Boots</td>\n",
       "      <td>The Mass Missile</td>\n",
       "      <td>rock</td>\n",
       "      <td>Saint-Petersburg</td>\n",
       "      <td>20:28:33</td>\n",
       "      <td>Wednesday</td>\n",
       "    </tr>\n",
       "    <tr>\n",
       "      <td>1</td>\n",
       "      <td>55204538</td>\n",
       "      <td>Delayed Because of Accident</td>\n",
       "      <td>Andreas Rönnberg</td>\n",
       "      <td>rock</td>\n",
       "      <td>Moscow</td>\n",
       "      <td>14:07:09</td>\n",
       "      <td>Friday</td>\n",
       "    </tr>\n",
       "    <tr>\n",
       "      <td>2</td>\n",
       "      <td>20EC38</td>\n",
       "      <td>Funiculì funiculà</td>\n",
       "      <td>Mario Lanza</td>\n",
       "      <td>pop</td>\n",
       "      <td>Saint-Petersburg</td>\n",
       "      <td>20:58:07</td>\n",
       "      <td>Wednesday</td>\n",
       "    </tr>\n",
       "    <tr>\n",
       "      <td>3</td>\n",
       "      <td>A3DD03C9</td>\n",
       "      <td>Dragons in the Sunset</td>\n",
       "      <td>Fire + Ice</td>\n",
       "      <td>folk</td>\n",
       "      <td>Saint-Petersburg</td>\n",
       "      <td>08:37:09</td>\n",
       "      <td>Monday</td>\n",
       "    </tr>\n",
       "    <tr>\n",
       "      <td>4</td>\n",
       "      <td>E2DC1FAE</td>\n",
       "      <td>Soul People</td>\n",
       "      <td>Space Echo</td>\n",
       "      <td>dance</td>\n",
       "      <td>Moscow</td>\n",
       "      <td>08:34:34</td>\n",
       "      <td>Monday</td>\n",
       "    </tr>\n",
       "    <tr>\n",
       "      <td>5</td>\n",
       "      <td>842029A1</td>\n",
       "      <td>Преданная</td>\n",
       "      <td>IMPERVTOR</td>\n",
       "      <td>rusrap</td>\n",
       "      <td>Saint-Petersburg</td>\n",
       "      <td>13:09:41</td>\n",
       "      <td>Friday</td>\n",
       "    </tr>\n",
       "    <tr>\n",
       "      <td>6</td>\n",
       "      <td>4CB90AA5</td>\n",
       "      <td>True</td>\n",
       "      <td>Roman Messer</td>\n",
       "      <td>dance</td>\n",
       "      <td>Moscow</td>\n",
       "      <td>13:00:07</td>\n",
       "      <td>Wednesday</td>\n",
       "    </tr>\n",
       "    <tr>\n",
       "      <td>7</td>\n",
       "      <td>F03E1C1F</td>\n",
       "      <td>Feeling This Way</td>\n",
       "      <td>Polina Griffith</td>\n",
       "      <td>dance</td>\n",
       "      <td>Moscow</td>\n",
       "      <td>20:47:49</td>\n",
       "      <td>Wednesday</td>\n",
       "    </tr>\n",
       "    <tr>\n",
       "      <td>8</td>\n",
       "      <td>8FA1D3BE</td>\n",
       "      <td>И вновь продолжается бой</td>\n",
       "      <td>NaN</td>\n",
       "      <td>ruspop</td>\n",
       "      <td>Moscow</td>\n",
       "      <td>09:17:40</td>\n",
       "      <td>Friday</td>\n",
       "    </tr>\n",
       "    <tr>\n",
       "      <td>9</td>\n",
       "      <td>E772D5C0</td>\n",
       "      <td>Pessimist</td>\n",
       "      <td>NaN</td>\n",
       "      <td>dance</td>\n",
       "      <td>Saint-Petersburg</td>\n",
       "      <td>21:20:49</td>\n",
       "      <td>Wednesday</td>\n",
       "    </tr>\n",
       "  </tbody>\n",
       "</table>\n",
       "</div>"
      ],
      "text/plain": [
       "     userID                        Track            artist   genre  \\\n",
       "0  FFB692EC            Kamigata To Boots  The Mass Missile    rock   \n",
       "1  55204538  Delayed Because of Accident  Andreas Rönnberg    rock   \n",
       "2    20EC38            Funiculì funiculà       Mario Lanza     pop   \n",
       "3  A3DD03C9        Dragons in the Sunset        Fire + Ice    folk   \n",
       "4  E2DC1FAE                  Soul People        Space Echo   dance   \n",
       "5  842029A1                    Преданная         IMPERVTOR  rusrap   \n",
       "6  4CB90AA5                         True      Roman Messer   dance   \n",
       "7  F03E1C1F             Feeling This Way   Polina Griffith   dance   \n",
       "8  8FA1D3BE     И вновь продолжается бой               NaN  ruspop   \n",
       "9  E772D5C0                    Pessimist               NaN   dance   \n",
       "\n",
       "             City        time        Day  \n",
       "0  Saint-Petersburg  20:28:33  Wednesday  \n",
       "1            Moscow  14:07:09     Friday  \n",
       "2  Saint-Petersburg  20:58:07  Wednesday  \n",
       "3  Saint-Petersburg  08:37:09     Monday  \n",
       "4            Moscow  08:34:34     Monday  \n",
       "5  Saint-Petersburg  13:09:41     Friday  \n",
       "6            Moscow  13:00:07  Wednesday  \n",
       "7            Moscow  20:47:49  Wednesday  \n",
       "8            Moscow  09:17:40     Friday  \n",
       "9  Saint-Petersburg  21:20:49  Wednesday  "
      ]
     },
     "execution_count": 93,
     "metadata": {},
     "output_type": "execute_result"
    }
   ],
   "source": [
    "df.head(10)"
   ]
  },
  {
   "cell_type": "markdown",
   "metadata": {
    "colab_type": "text",
    "deletable": false,
    "editable": false,
    "id": "FrIiRHuHIBbN",
    "tags": [
     "0210c096-9595-4600-b91d-42ab36a6c3f0"
    ]
   },
   "source": [
    "Общая информация о данных таблицы *df*.\n",
    "\n",
    "\n"
   ]
  },
  {
   "cell_type": "code",
   "execution_count": 94,
   "metadata": {
    "colab": {},
    "colab_type": "code",
    "deletable": false,
    "id": "K7t8OdZsYN2y"
   },
   "outputs": [
    {
     "name": "stdout",
     "output_type": "stream",
     "text": [
      "<class 'pandas.core.frame.DataFrame'>\n",
      "RangeIndex: 65079 entries, 0 to 65078\n",
      "Data columns (total 7 columns):\n",
      "  userID    65079 non-null object\n",
      "Track       63848 non-null object\n",
      "artist      57876 non-null object\n",
      "genre       63881 non-null object\n",
      "  City      65079 non-null object\n",
      "time        65079 non-null object\n",
      "Day         65079 non-null object\n",
      "dtypes: object(7)\n",
      "memory usage: 3.5+ MB\n"
     ]
    }
   ],
   "source": [
    "df.info()"
   ]
  },
  {
   "cell_type": "markdown",
   "metadata": {
    "colab_type": "text",
    "deletable": false,
    "id": "CnHv9HZCc7LN"
   },
   "source": [
    "Рассмотрим полученную информацию подробнее.\n",
    "\n",
    "Всего в таблице 7 столбцов, тип данных у каждого столбца - object.\n",
    "\n",
    "Подробно разберём, какие в *df* столбцы и какую информацию они содержат:\n",
    "\n",
    "* userID — идентификатор пользователя;\n",
    "* Track — название трека;  \n",
    "* artist — имя исполнителя;\n",
    "* genre — название жанра;\n",
    "* City — город, в котором происходило прослушивание;\n",
    "* time — время, в которое пользователь слушал трек;\n",
    "* Day — день недели.\n",
    "\n",
    "Количество значений в столбцах различается. Это говорит о том, что в данных есть пропущенные значения.\n",
    "\n"
   ]
  },
  {
   "cell_type": "markdown",
   "metadata": {
    "colab_type": "text",
    "deletable": false,
    "id": "DCYFm5VrevuB"
   },
   "source": [
    "**Выводы**"
   ]
  },
  {
   "cell_type": "markdown",
   "metadata": {
    "colab_type": "text",
    "deletable": false,
    "id": "PCEtjdmvezRm"
   },
   "source": [
    "Каждая строка таблицы содержит информацию о композициях определённого жанра в определённом исполнении, которые пользователи слушали в одном из городов в определённое время и день недели. Две проблемы, которые нужно решать: пропуски и некачественные названия столбцов. Для проверки рабочих гипотез особенно ценны столбцы *time*, *day* и *City*. Данные из столбца *genre* позволят узнать самые популярные жанры."
   ]
  },
  {
   "cell_type": "markdown",
   "metadata": {
    "colab_type": "text",
    "deletable": false,
    "editable": false,
    "id": "ZYaC0bU-IZ0a",
    "tags": [
     "2c946931-9c91-4e15-baf8-43fb79bcb454"
    ]
   },
   "source": [
    "# Этап 2. Предобработка данных"
   ]
  },
  {
   "cell_type": "markdown",
   "metadata": {
    "colab_type": "text",
    "deletable": false,
    "id": "Dl8grmTrPxZi"
   },
   "source": [
    "Исключим пропуски, переименуем столбцы, а также проверим данные на наличие дубликатов."
   ]
  },
  {
   "cell_type": "markdown",
   "metadata": {
    "colab_type": "text",
    "deletable": false,
    "id": "6OIhlsG_IjI8"
   },
   "source": [
    "Получаем перечень названий столбцов. Какая наблюдается проблема — кроме тех, что уже были названы ранее?"
   ]
  },
  {
   "cell_type": "code",
   "execution_count": 95,
   "metadata": {
    "colab": {},
    "colab_type": "code",
    "deletable": false,
    "id": "Tag65F_Uitsx"
   },
   "outputs": [
    {
     "data": {
      "text/plain": [
       "Index(['  userID', 'Track', 'artist', 'genre', '  City  ', 'time', 'Day'], dtype='object')"
      ]
     },
     "execution_count": 95,
     "metadata": {},
     "output_type": "execute_result"
    }
   ],
   "source": [
    "df.columns"
   ]
  },
  {
   "cell_type": "markdown",
   "metadata": {
    "colab_type": "text",
    "deletable": false,
    "id": "x6iJC-cEhnRL"
   },
   "source": [
    "В названиях столбцов есть пробелы, которые могут затруднять доступ к данным."
   ]
  },
  {
   "cell_type": "markdown",
   "metadata": {
    "colab_type": "text",
    "deletable": false,
    "editable": false,
    "id": "BK6m6-DZhlTs",
    "tags": [
     "c2b469cf-2148-4115-8806-0fbb00a9d55d"
    ]
   },
   "source": [
    "Переименуем столбцы для удобства дальнейшей работы. Проверим результат.\n",
    "\n"
   ]
  },
  {
   "cell_type": "code",
   "execution_count": 96,
   "metadata": {
    "colab": {},
    "colab_type": "code",
    "deletable": false,
    "id": "XintVfCniw2-"
   },
   "outputs": [],
   "source": [
    "df.set_axis(['user_id', 'track_name', 'artist_name', 'genre_name', 'city', 'time', 'weekday'], axis='columns', inplace=True)"
   ]
  },
  {
   "cell_type": "code",
   "execution_count": 97,
   "metadata": {
    "colab": {},
    "colab_type": "code",
    "deletable": false,
    "id": "ozQL91G4izdp"
   },
   "outputs": [
    {
     "data": {
      "text/plain": [
       "Index(['user_id', 'track_name', 'artist_name', 'genre_name', 'city', 'time',\n",
       "       'weekday'],\n",
       "      dtype='object')"
      ]
     },
     "execution_count": 97,
     "metadata": {},
     "output_type": "execute_result"
    }
   ],
   "source": [
    "df.columns"
   ]
  },
  {
   "cell_type": "markdown",
   "metadata": {
    "colab_type": "text",
    "deletable": false,
    "editable": false,
    "id": "oc2qS2UBIkQu",
    "tags": [
     "325fae3b-abce-4c7c-8c41-87ed8a26ff5d"
    ]
   },
   "source": [
    "Проверим данные на наличие пропусков вызовом набора методов для суммирования пропущенных значений."
   ]
  },
  {
   "cell_type": "code",
   "execution_count": 98,
   "metadata": {
    "colab": {},
    "colab_type": "code",
    "deletable": false,
    "id": "BZh9yLHhjy_R"
   },
   "outputs": [
    {
     "data": {
      "text/plain": [
       "user_id           0\n",
       "track_name     1231\n",
       "artist_name    7203\n",
       "genre_name     1198\n",
       "city              0\n",
       "time              0\n",
       "weekday           0\n",
       "dtype: int64"
      ]
     },
     "execution_count": 98,
     "metadata": {},
     "output_type": "execute_result"
    }
   ],
   "source": [
    "df.isnull().sum()"
   ]
  },
  {
   "cell_type": "markdown",
   "metadata": {
    "colab_type": "text",
    "deletable": false,
    "id": "OJXGaa02tSJJ"
   },
   "source": [
    "Пустые значения свидетельствуют, что для некоторых треков доступна не вся информация. Причины могут быть разные: скажем,  не назван конкретный исполнитель народной песни. Хуже, если проблемы с записью данных. Каждый отдельный случай необходимо разобрать и выявить причину."
   ]
  },
  {
   "cell_type": "markdown",
   "metadata": {
    "colab_type": "text",
    "deletable": false,
    "id": "-fBDAWZUkAg-"
   },
   "source": [
    "Заменяем пропущенные значения в столбцах с названием трека и исполнителя на строку 'unknown'. После этой операции нужно убедиться, что таблица больше не содержит пропусков."
   ]
  },
  {
   "cell_type": "code",
   "execution_count": 99,
   "metadata": {
    "colab": {},
    "colab_type": "code",
    "deletable": false,
    "id": "EO8zFcJPlbvV"
   },
   "outputs": [],
   "source": [
    "df.track_name = df.track_name.fillna('unknown')"
   ]
  },
  {
   "cell_type": "code",
   "execution_count": 100,
   "metadata": {
    "colab": {},
    "colab_type": "code",
    "deletable": false,
    "id": "3hsNZcLST0UW"
   },
   "outputs": [],
   "source": [
    "df.artist_name = df.artist_name.fillna('unknown')"
   ]
  },
  {
   "cell_type": "code",
   "execution_count": 101,
   "metadata": {
    "colab": {},
    "colab_type": "code",
    "deletable": false,
    "id": "Ua-Z8TAblgzC"
   },
   "outputs": [
    {
     "data": {
      "text/plain": [
       "user_id           0\n",
       "track_name        0\n",
       "artist_name       0\n",
       "genre_name     1198\n",
       "city              0\n",
       "time              0\n",
       "weekday           0\n",
       "dtype: int64"
      ]
     },
     "execution_count": 101,
     "metadata": {},
     "output_type": "execute_result"
    }
   ],
   "source": [
    "df.isnull().sum()"
   ]
  },
  {
   "cell_type": "markdown",
   "metadata": {
    "colab_type": "text",
    "deletable": false,
    "editable": false,
    "id": "-cjfT0w2ln9C",
    "tags": [
     "9cb28dd4-e24e-4490-aebd-b37ba9e492c5"
    ]
   },
   "source": [
    "Удаляем в столбце с жанрами пустые значения; убеждаемся, что их больше не осталось."
   ]
  },
  {
   "cell_type": "code",
   "execution_count": 102,
   "metadata": {
    "colab": {},
    "colab_type": "code",
    "deletable": false,
    "id": "TIpk7lwtnZkZ"
   },
   "outputs": [],
   "source": [
    "df.dropna(subset=['genre_name'], inplace=True)"
   ]
  },
  {
   "cell_type": "code",
   "execution_count": 103,
   "metadata": {
    "colab": {},
    "colab_type": "code",
    "deletable": false,
    "id": "-1CT-CCZnzTA"
   },
   "outputs": [
    {
     "data": {
      "text/plain": [
       "user_id        0\n",
       "track_name     0\n",
       "artist_name    0\n",
       "genre_name     0\n",
       "city           0\n",
       "time           0\n",
       "weekday        0\n",
       "dtype: int64"
      ]
     },
     "execution_count": 103,
     "metadata": {},
     "output_type": "execute_result"
    }
   ],
   "source": [
    "df.isnull().sum()"
   ]
  },
  {
   "cell_type": "markdown",
   "metadata": {
    "colab_type": "text",
    "deletable": false,
    "editable": false,
    "id": "QsBXpJFzpxA9",
    "tags": [
     "ea46db29-6746-4c02-a47b-75283dde9025"
    ]
   },
   "source": [
    "Необходимо установить наличие дубликатов.  Если найдутся, удаляем, и проверяем, все ли удалились."
   ]
  },
  {
   "cell_type": "code",
   "execution_count": 104,
   "metadata": {
    "colab": {},
    "colab_type": "code",
    "deletable": false,
    "id": "VRVI_B0RqIgT"
   },
   "outputs": [
    {
     "data": {
      "text/plain": [
       "3755"
      ]
     },
     "execution_count": 104,
     "metadata": {},
     "output_type": "execute_result"
    }
   ],
   "source": [
    "df.duplicated().sum()"
   ]
  },
  {
   "cell_type": "code",
   "execution_count": 105,
   "metadata": {
    "colab": {},
    "colab_type": "code",
    "deletable": false,
    "id": "nSYF38OeqZn-"
   },
   "outputs": [],
   "source": [
    "df = df.drop_duplicates().reset_index(drop=True)"
   ]
  },
  {
   "cell_type": "code",
   "execution_count": 106,
   "metadata": {
    "colab": {},
    "colab_type": "code",
    "deletable": false,
    "id": "O-RfjmkCqIgV"
   },
   "outputs": [
    {
     "data": {
      "text/plain": [
       "0"
      ]
     },
     "execution_count": 106,
     "metadata": {},
     "output_type": "execute_result"
    }
   ],
   "source": [
    "df.duplicated().sum()"
   ]
  },
  {
   "cell_type": "markdown",
   "metadata": {
    "colab_type": "text",
    "deletable": false,
    "id": "e6cyWPTwsLKw"
   },
   "source": [
    "Дубликаты могли появиться вследствие сбоя в записи данных. Стоит обратить внимание и разобраться с причинами появления такого «информационного мусора»."
   ]
  },
  {
   "cell_type": "markdown",
   "metadata": {
    "colab_type": "text",
    "deletable": false,
    "editable": false,
    "id": "QH-HgrApInjO",
    "tags": [
     "46fb87e8-2d9c-497d-9c6e-746eaa2631ab"
    ]
   },
   "source": [
    "Сохраняем список уникальных значений столбца с жанрами в переменной *genres_list*. \n",
    "\n",
    "Объявим функцию *find_genre()* для поиска неявных дубликатов в столбце с жанрами. Например, когда название одного и того же жанра написано разными словами.\n",
    "\n",
    "\n",
    "\n"
   ]
  },
  {
   "cell_type": "code",
   "execution_count": 107,
   "metadata": {
    "colab": {},
    "colab_type": "code",
    "deletable": false,
    "id": "FfaTfKAN-PCx"
   },
   "outputs": [],
   "source": [
    "genres_list = df.genre_name.unique()"
   ]
  },
  {
   "cell_type": "code",
   "execution_count": 108,
   "metadata": {
    "colab": {},
    "colab_type": "code",
    "deletable": false,
    "id": "TA_k-VLi-S0R"
   },
   "outputs": [],
   "source": [
    "def find_genre(genre):\n",
    "    count = 0\n",
    "    for elem in genres_list:\n",
    "        if elem == genre:\n",
    "            count += 1\n",
    "    return count"
   ]
  },
  {
   "cell_type": "markdown",
   "metadata": {
    "colab_type": "text",
    "deletable": false,
    "editable": false,
    "id": "vb3CTOciIL27",
    "tags": [
     "b57e3325-29fc-4ade-83a3-91113c5dad32"
    ]
   },
   "source": [
    "Вызов функции *find_genre()* для поиска различных вариантов названия жанра хип-хоп в таблице.\n",
    "\n",
    "Правильное название — *hiphop*. Поищем другие варианты:\n",
    "\n",
    "* hip\n",
    "* hop\n",
    "* hip-hop\n"
   ]
  },
  {
   "cell_type": "code",
   "execution_count": 133,
   "metadata": {
    "colab": {},
    "colab_type": "code",
    "deletable": false,
    "id": "YrwqExZS-dyQ"
   },
   "outputs": [
    {
     "data": {
      "text/plain": [
       "1"
      ]
     },
     "execution_count": 133,
     "metadata": {},
     "output_type": "execute_result"
    }
   ],
   "source": [
    "find_genre('hip')"
   ]
  },
  {
   "cell_type": "code",
   "execution_count": 110,
   "metadata": {
    "colab": {},
    "colab_type": "code",
    "deletable": false,
    "id": "ZoL4EEcR-dyU"
   },
   "outputs": [
    {
     "data": {
      "text/plain": [
       "0"
      ]
     },
     "execution_count": 110,
     "metadata": {},
     "output_type": "execute_result"
    }
   ],
   "source": [
    "find_genre('hop')"
   ]
  },
  {
   "cell_type": "code",
   "execution_count": 111,
   "metadata": {
    "colab": {},
    "colab_type": "code",
    "deletable": false,
    "id": "MFowmiug-qZD"
   },
   "outputs": [
    {
     "data": {
      "text/plain": [
       "0"
      ]
     },
     "execution_count": 111,
     "metadata": {},
     "output_type": "execute_result"
    }
   ],
   "source": [
    "find_genre('hip-hop')"
   ]
  },
  {
   "cell_type": "markdown",
   "metadata": {
    "colab_type": "text",
    "deletable": false,
    "editable": false,
    "id": "a7BQY6ORLMSG",
    "tags": [
     "11f77aa1-5478-453d-b31e-f20041047bb7"
    ]
   },
   "source": [
    "Объявим функцию *find_hip_hop()*, которая заменяет  неправильное название этого жанра в столбце *'genre_name'* на *'hiphop'* и проверяет успешность выполнения замены.\n",
    "\n",
    "Так исправляем все варианты написания, которые выявила проверка."
   ]
  },
  {
   "cell_type": "code",
   "execution_count": 193,
   "metadata": {
    "colab": {},
    "colab_type": "code",
    "deletable": false,
    "id": "31xlzL_c_FgB"
   },
   "outputs": [],
   "source": [
    "def find_hip_hop(df, wrong):\n",
    "    df['genre_name'] = df['genre_name'].replace(wrong, 'hiphop')\n",
    "    count_wrong = df[df['genre_name'] == wrong]['genre_name'].count()\n",
    "    return count_wrong"
   ]
  },
  {
   "cell_type": "code",
   "execution_count": 194,
   "metadata": {
    "colab": {},
    "colab_type": "code",
    "deletable": false,
    "id": "ZFXMV2qW_FgE"
   },
   "outputs": [
    {
     "data": {
      "text/plain": [
       "0"
      ]
     },
     "execution_count": 194,
     "metadata": {},
     "output_type": "execute_result"
    }
   ],
   "source": [
    "find_hip_hop(df, 'hip')"
   ]
  },
  {
   "cell_type": "markdown",
   "metadata": {
    "colab_type": "text",
    "deletable": false,
    "editable": false,
    "id": "i90BILA9JQpE",
    "tags": [
     "30535c8e-1643-4088-925b-2a32180e0333"
    ]
   },
   "source": [
    "Получаем общую информацию о данных. Убеждаемся, что чистка выполнена успешно."
   ]
  },
  {
   "cell_type": "code",
   "execution_count": 121,
   "metadata": {
    "colab": {},
    "colab_type": "code",
    "deletable": false,
    "id": "-yyvdzHA_uJm"
   },
   "outputs": [
    {
     "name": "stdout",
     "output_type": "stream",
     "text": [
      "<class 'pandas.core.frame.DataFrame'>\n",
      "RangeIndex: 60126 entries, 0 to 60125\n",
      "Data columns (total 7 columns):\n",
      "user_id        60126 non-null object\n",
      "track_name     60126 non-null object\n",
      "artist_name    60126 non-null object\n",
      "genre_name     60126 non-null object\n",
      "city           60126 non-null object\n",
      "time           60126 non-null object\n",
      "weekday        60126 non-null object\n",
      "dtypes: object(7)\n",
      "memory usage: 3.2+ MB\n"
     ]
    }
   ],
   "source": [
    "df.info()"
   ]
  },
  {
   "cell_type": "markdown",
   "metadata": {
    "colab_type": "text",
    "deletable": false,
    "id": "AReHO17cMRPM"
   },
   "source": [
    "**Вывод**"
   ]
  },
  {
   "cell_type": "markdown",
   "metadata": {
    "colab_type": "text",
    "deletable": false,
    "id": "yscfstUqMS4c"
   },
   "source": [
    "На этапе предобработки в данных обнаружились не только пропуски и проблемы с названиями столбцов, но и всяческие виды дубликатов. Их удаление позволит провести анализ точнее. Поскольку сведения о жанрах важно сохранить для анализа, не просто удаляем все пропущенные значения, но заполним пропущенные имена исполнителей и названия треков. Имена столбцов теперь корректны и удобны для дальнейшей работы."
   ]
  },
  {
   "cell_type": "markdown",
   "metadata": {
    "colab_type": "text",
    "deletable": false,
    "editable": false,
    "id": "MF4nnd1YJUrI",
    "tags": [
     "ac8df732-1797-479a-9c4c-a03745931a9d"
    ]
   },
   "source": [
    "# Действительно ли музыку в разных городах слушают по-разному?"
   ]
  },
  {
   "cell_type": "markdown",
   "metadata": {
    "colab_type": "text",
    "deletable": false,
    "id": "AYSL1OvyM2pL"
   },
   "source": [
    "Была выдвинута гипотеза, что в Москве и Санкт-Петербурге пользователи слушают музыку по-разному. Проверяем это предположение по данным о трёх днях недели — понедельнике, среде и пятнице.\n",
    "\n",
    "Для каждого города устанавливаем количество прослушанных  в эти дни композиций с известным жанром, и сравниваем результаты."
   ]
  },
  {
   "cell_type": "markdown",
   "metadata": {
    "colab_type": "text",
    "deletable": false,
    "id": "OM5Eeh7FNWC-"
   },
   "source": [
    "Группируем данные по городу и вызовом метода *count()* подсчитываем композиции, для которых известен жанр."
   ]
  },
  {
   "cell_type": "code",
   "execution_count": 197,
   "metadata": {
    "colab": {},
    "colab_type": "code",
    "deletable": false,
    "id": "AtH_pP1i_0m1"
   },
   "outputs": [
    {
     "data": {
      "text/plain": [
       "city\n",
       "Moscow              41892\n",
       "Saint-Petersburg    18234\n",
       "Name: genre_name, dtype: int64"
      ]
     },
     "execution_count": 197,
     "metadata": {},
     "output_type": "execute_result"
    }
   ],
   "source": [
    "df.groupby('city')['genre_name'].count()"
   ]
  },
  {
   "cell_type": "markdown",
   "metadata": {
    "colab_type": "text",
    "deletable": false,
    "id": "XBR226DMpIDf"
   },
   "source": [
    "В Москве прослушиваний больше, чем в Питере, но это не значит, что Москва более активна. У Яндекс.Музыки в целом больше пользователей в Москве, поэтому величины сопоставимы."
   ]
  },
  {
   "cell_type": "markdown",
   "metadata": {
    "colab_type": "text",
    "deletable": false,
    "editable": false,
    "id": "P7EcNQuyNbNB",
    "tags": [
     "133ddd49-3b63-45b1-b50c-9e6ab5fc4175"
    ]
   },
   "source": [
    "Сгруппируем данные по дню недели и подсчитаем прослушанные в понедельник, среду и пятницу композиции, для которых известен жанр."
   ]
  },
  {
   "cell_type": "code",
   "execution_count": 198,
   "metadata": {
    "colab": {},
    "colab_type": "code",
    "deletable": false,
    "id": "A8E_Tb2b_3un"
   },
   "outputs": [
    {
     "data": {
      "text/plain": [
       "weekday\n",
       "Friday       21482\n",
       "Monday       20866\n",
       "Wednesday    17778\n",
       "Name: genre_name, dtype: int64"
      ]
     },
     "execution_count": 198,
     "metadata": {},
     "output_type": "execute_result"
    }
   ],
   "source": [
    "df.groupby('weekday')['genre_name'].count()"
   ]
  },
  {
   "cell_type": "markdown",
   "metadata": {
    "colab_type": "text",
    "deletable": false,
    "id": "Zhh6hehCpq_U"
   },
   "source": [
    "Понедельник и пятница — время для музыки; по средам пользователи немного больше вовлечены в работу."
   ]
  },
  {
   "cell_type": "markdown",
   "metadata": {
    "colab_type": "text",
    "deletable": false,
    "editable": false,
    "id": "bYab2U5BNdmZ",
    "tags": [
     "bae0a168-5e2b-40f9-9701-bfb32d016517"
    ]
   },
   "source": [
    "Создаём функцию *number_tracks()*, которая принимает как параметры таблицу, день недели и название города, а возвращает количество прослушанных композиций, для которых известен жанр. Проверяем количество прослушанных композиций для каждого города и понедельника, затем среды и пятницы."
   ]
  },
  {
   "cell_type": "code",
   "execution_count": 199,
   "metadata": {
    "colab": {},
    "colab_type": "code",
    "deletable": false,
    "id": "4SqpGSi5_7hA"
   },
   "outputs": [],
   "source": [
    "def number_tracks(df, day, city):\n",
    "    track_list = df[(df.weekday == day) & (df.city == city)]\n",
    "    track_list_count = track_list['genre_name'].count()\n",
    "    return track_list_count"
   ]
  },
  {
   "cell_type": "code",
   "execution_count": 200,
   "metadata": {
    "deletable": false
   },
   "outputs": [
    {
     "data": {
      "text/plain": [
       "15347"
      ]
     },
     "execution_count": 200,
     "metadata": {},
     "output_type": "execute_result"
    }
   ],
   "source": [
    "number_tracks(df, 'Monday', 'Moscow')"
   ]
  },
  {
   "cell_type": "code",
   "execution_count": 201,
   "metadata": {
    "deletable": false
   },
   "outputs": [
    {
     "data": {
      "text/plain": [
       "5519"
      ]
     },
     "execution_count": 201,
     "metadata": {},
     "output_type": "execute_result"
    }
   ],
   "source": [
    "number_tracks(df, 'Monday', 'Saint-Petersburg')"
   ]
  },
  {
   "cell_type": "code",
   "execution_count": 202,
   "metadata": {
    "deletable": false
   },
   "outputs": [
    {
     "data": {
      "text/plain": [
       "10865"
      ]
     },
     "execution_count": 202,
     "metadata": {},
     "output_type": "execute_result"
    }
   ],
   "source": [
    "number_tracks(df, 'Wednesday', 'Moscow')"
   ]
  },
  {
   "cell_type": "code",
   "execution_count": 203,
   "metadata": {
    "deletable": false
   },
   "outputs": [
    {
     "data": {
      "text/plain": [
       "6913"
      ]
     },
     "execution_count": 203,
     "metadata": {},
     "output_type": "execute_result"
    }
   ],
   "source": [
    "number_tracks(df, 'Wednesday', 'Saint-Petersburg')"
   ]
  },
  {
   "cell_type": "code",
   "execution_count": 204,
   "metadata": {
    "deletable": false
   },
   "outputs": [
    {
     "data": {
      "text/plain": [
       "15680"
      ]
     },
     "execution_count": 204,
     "metadata": {},
     "output_type": "execute_result"
    }
   ],
   "source": [
    "number_tracks(df, 'Friday', 'Moscow')"
   ]
  },
  {
   "cell_type": "code",
   "execution_count": 205,
   "metadata": {
    "deletable": false
   },
   "outputs": [
    {
     "data": {
      "text/plain": [
       "5802"
      ]
     },
     "execution_count": 205,
     "metadata": {},
     "output_type": "execute_result"
    }
   ],
   "source": [
    "number_tracks(df, 'Friday', 'Saint-Petersburg')"
   ]
  },
  {
   "cell_type": "markdown",
   "metadata": {
    "colab_type": "text",
    "deletable": false,
    "editable": false,
    "id": "tCB9zwzzqZ8g",
    "tags": [
     "d73e12bf-3635-484b-8fb6-c7ccc2101671"
    ]
   },
   "source": [
    "Сведём полученную информацию в одну таблицу, где ['city', 'monday', 'wednesday', 'friday'] названия столбцов.\n"
   ]
  },
  {
   "cell_type": "code",
   "execution_count": 208,
   "metadata": {
    "deletable": false
   },
   "outputs": [],
   "source": [
    "data = [\n",
    "        ['Moscow',\n",
    "         number_tracks(df, 'Monday', 'Moscow'),\n",
    "         number_tracks(df, 'Wednesday', 'Moscow'),\n",
    "         number_tracks(df, 'Friday', 'Moscow')],\n",
    "        ['Saint-Petersburg',\n",
    "         number_tracks(df, 'Monday', 'Saint-Petersburg'),\n",
    "         number_tracks(df, 'Wednesday', 'Saint-Petersburg'),\n",
    "         number_tracks(df, 'Friday', 'Saint-Petersburg')]\n",
    "]  \n",
    "columns =  ['city', 'monday', 'wednesday', 'friday']\n",
    "table = pd.DataFrame(data=data, columns=columns)"
   ]
  },
  {
   "cell_type": "markdown",
   "metadata": {
    "colab_type": "text",
    "deletable": false,
    "id": "LKCYeMXgqPxD"
   },
   "source": [
    "**Вывод**"
   ]
  },
  {
   "cell_type": "markdown",
   "metadata": {
    "colab_type": "text",
    "deletable": false,
    "id": "RJpg6I8jqQ0x"
   },
   "source": [
    "Результаты показывают, что относительно среды музыку в Петербурге и Москве слушают «зеркально»: в Москве пики приходятся на понедельник и пятницу, а в среду время прослушивания снижается. Тогда как в Санкт-Петербурге среда — день самого большого интереса к музыке, а в понедельник и пятницу он меньше, причём почти одинаково меньше."
   ]
  },
  {
   "cell_type": "markdown",
   "metadata": {
    "colab_type": "text",
    "deletable": false,
    "editable": false,
    "id": "tLdpUGyewzGf",
    "tags": [
     "1eb8124a-f066-4c43-b1f4-bc672c5efd57"
    ]
   },
   "source": [
    "# Утро понедельника и вечер пятницы — разная музыка или одна и та же?"
   ]
  },
  {
   "cell_type": "markdown",
   "metadata": {
    "colab_type": "text",
    "deletable": false,
    "id": "SaQlxcVntL3x"
   },
   "source": [
    "Ищем ответ на вопрос, какие жанры преобладают в разных городах в понедельник утром и в пятницу вечером. Есть предположение, что в понедельник утром пользователи слушают больше бодрящей музыки (например, жанра поп), а вечером пятницы — больше танцевальных (например, электронику)."
   ]
  },
  {
   "cell_type": "markdown",
   "metadata": {
    "colab_type": "text",
    "deletable": false,
    "id": "lYGAneOaPBhS"
   },
   "source": [
    "Получим таблицы данных по Москве *moscow_general* и по Санкт-Петербургу *spb_general*."
   ]
  },
  {
   "cell_type": "code",
   "execution_count": 212,
   "metadata": {
    "colab": {},
    "colab_type": "code",
    "deletable": false,
    "id": "Pyz1i56nA5IS"
   },
   "outputs": [],
   "source": [
    "moscow_general = df[df.city == 'Moscow']"
   ]
  },
  {
   "cell_type": "code",
   "execution_count": 213,
   "metadata": {
    "colab": {},
    "colab_type": "code",
    "deletable": false,
    "id": "w3NNN-2hA-al"
   },
   "outputs": [],
   "source": [
    "spb_general = df[df.city == 'Saint-Petersburg']"
   ]
  },
  {
   "cell_type": "markdown",
   "metadata": {
    "colab_type": "text",
    "deletable": false,
    "editable": false,
    "id": "duDdH_WiPLky",
    "tags": [
     "7f7cae13-ec1c-45c4-9204-0a4354fe1766"
    ]
   },
   "source": [
    "Создаём функцию *genre_weekday()*, которая возвращает список жанров по запрошенному дню недели и времени суток с такого-то часа по такой-то."
   ]
  },
  {
   "cell_type": "code",
   "execution_count": 230,
   "metadata": {
    "colab": {},
    "colab_type": "code",
    "deletable": false,
    "id": "JhUdQynHBEYw"
   },
   "outputs": [],
   "source": [
    "def genre_weekday(df, day, time1, time2):\n",
    "    genre_list = df[(df.weekday == day) & (time1 < df.time) & (time2 > df.time)]\n",
    "    genre_list_sorted = genre_list['genre_name'].sort_values(ascending=False).head(10)\n",
    "    return genre_list_sorted"
   ]
  },
  {
   "cell_type": "markdown",
   "metadata": {
    "colab_type": "text",
    "deletable": false,
    "editable": false,
    "id": "bxGC8kXkP7B-",
    "tags": [
     "63e2c3f3-fa64-4376-8221-e8b753264535"
    ]
   },
   "source": [
    "Cравниваем полученные результаты по таблице для Москвы и Санкт-Петербурга в понедельник утром (с 7 до 11) и в пятницу вечером (с 17 до 23)."
   ]
  },
  {
   "cell_type": "code",
   "execution_count": 231,
   "metadata": {
    "colab": {},
    "colab_type": "code",
    "deletable": false,
    "id": "kbgeq-55BLEI"
   },
   "outputs": [
    {
     "data": {
      "text/plain": [
       "27442    worldbeat\n",
       "18443        world\n",
       "8344         world\n",
       "18333        world\n",
       "58495        world\n",
       "31542        world\n",
       "31455        world\n",
       "14265        world\n",
       "48795        world\n",
       "497          world\n",
       "Name: genre_name, dtype: object"
      ]
     },
     "execution_count": 231,
     "metadata": {},
     "output_type": "execute_result"
    }
   ],
   "source": [
    "genre_weekday(moscow_general, 'Monday', '07:00:00', '11:00:00')"
   ]
  },
  {
   "cell_type": "code",
   "execution_count": 232,
   "metadata": {
    "colab": {},
    "colab_type": "code",
    "deletable": false,
    "id": "XHwa8N2EBRXO"
   },
   "outputs": [
    {
     "data": {
      "text/plain": [
       "30068    world\n",
       "21206    world\n",
       "20813    world\n",
       "28613    world\n",
       "19541    world\n",
       "55921    world\n",
       "55764    world\n",
       "30646    world\n",
       "18608    world\n",
       "55055    world\n",
       "Name: genre_name, dtype: object"
      ]
     },
     "execution_count": 232,
     "metadata": {},
     "output_type": "execute_result"
    }
   ],
   "source": [
    "genre_weekday(spb_general, 'Monday', '07:00:00', '11:00:00')"
   ]
  },
  {
   "cell_type": "code",
   "execution_count": 233,
   "metadata": {
    "colab": {},
    "colab_type": "code",
    "deletable": false,
    "id": "YvdSbg2jBUeq"
   },
   "outputs": [
    {
     "data": {
      "text/plain": [
       "41152    world\n",
       "43154    world\n",
       "47680    world\n",
       "12827    world\n",
       "31820    world\n",
       "1632     world\n",
       "40340    world\n",
       "19761    world\n",
       "55762    world\n",
       "24216    world\n",
       "Name: genre_name, dtype: object"
      ]
     },
     "execution_count": 233,
     "metadata": {},
     "output_type": "execute_result"
    }
   ],
   "source": [
    "genre_weekday(moscow_general, 'Friday', '17:00:00', '23:00:00')"
   ]
  },
  {
   "cell_type": "code",
   "execution_count": 234,
   "metadata": {
    "colab": {},
    "colab_type": "code",
    "deletable": false,
    "id": "Ew3ig4fPBUeu"
   },
   "outputs": [
    {
     "data": {
      "text/plain": [
       "3470     world\n",
       "37629    world\n",
       "54324    world\n",
       "2333     world\n",
       "41443    world\n",
       "1042     world\n",
       "40653    world\n",
       "24389    world\n",
       "24443    world\n",
       "40083    world\n",
       "Name: genre_name, dtype: object"
      ]
     },
     "execution_count": 234,
     "metadata": {},
     "output_type": "execute_result"
    }
   ],
   "source": [
    "genre_weekday(spb_general, 'Friday', '17:00:00', '23:00:00')"
   ]
  },
  {
   "cell_type": "markdown",
   "metadata": {
    "colab_type": "text",
    "deletable": false,
    "id": "UenYBZTIwYT-"
   },
   "source": [
    "Популярные жанры в понедельник утром в Питере и Москве оказались похожи: везде, как и предполагалось, популярен поп. Несмотря на это, концовка топ-10 для двух городов различается: в Питере в топ-10 входит джаз и русский рэп, а в Москве жанр *world*.\n",
    "\n",
    "В конце недели ситуация не меняется. Поп-музыка всё так же на первом месте. Опять разница заметна только в концовке топ-10, где в Питере пятничным вечером тоже присутствует жанр *world*."
   ]
  },
  {
   "cell_type": "markdown",
   "metadata": {
    "colab_type": "text",
    "deletable": false,
    "id": "MBxfrKPAykp_"
   },
   "source": [
    "**Вывод**"
   ]
  },
  {
   "cell_type": "markdown",
   "metadata": {
    "colab_type": "text",
    "deletable": false,
    "id": "j8ypBMwSymL6"
   },
   "source": [
    "Жанр поп безусловный лидер, а топ-5 в целом не различается в обеих столицах. При этом видно, что концовка списка более «живая»: для каждого города выделяются более характерные жанры, которые действительно меняют свои позиции в зависимости от дня недели и времени."
   ]
  },
  {
   "cell_type": "markdown",
   "metadata": {
    "colab_type": "text",
    "deletable": false,
    "editable": false,
    "id": "D7YMmgKRw270",
    "tags": [
     "f363205e-76b1-4883-abf1-bf21c9572dc7"
    ]
   },
   "source": [
    "# Москва и Питер — две разные столицы, два разных направления в музыке. Правда?"
   ]
  },
  {
   "cell_type": "markdown",
   "metadata": {
    "colab_type": "text",
    "deletable": false,
    "id": "Wc5srT13zb4Z"
   },
   "source": [
    "Гипотеза: Питер богат своей рэп-культурой, поэтому это направление там слушают чаще, а Москва — город контрастов, но основная масса пользователей слушает попсу.\n",
    "\n"
   ]
  },
  {
   "cell_type": "markdown",
   "metadata": {
    "colab_type": "text",
    "deletable": false,
    "id": "2SFE9_RV2KEL"
   },
   "source": [
    "Сгруппируем таблицу *moscow_general* по жанру, сосчитаем численность композиций каждого жанра методом *count()*, отсортируем в порядке убывания и сохраним результат в таблице *moscow_genres*.\n",
    "\n",
    "Просмотрим первые 10 строк этой новой таблицы."
   ]
  },
  {
   "cell_type": "code",
   "execution_count": 235,
   "metadata": {
    "colab": {},
    "colab_type": "code",
    "deletable": false,
    "id": "OohoTcsYBheo"
   },
   "outputs": [],
   "source": [
    "moscow_genres = moscow_general.groupby('genre_name')['genre_name'].count().sort_values(ascending=False)"
   ]
  },
  {
   "cell_type": "code",
   "execution_count": 236,
   "metadata": {
    "colab": {},
    "colab_type": "code",
    "deletable": false,
    "id": "h7IhIKDrBher"
   },
   "outputs": [
    {
     "data": {
      "text/plain": [
       "genre_name\n",
       "pop            5892\n",
       "dance          4435\n",
       "rock           3965\n",
       "electronic     3786\n",
       "hiphop         2096\n",
       "classical      1616\n",
       "world          1432\n",
       "alternative    1379\n",
       "ruspop         1372\n",
       "rusrap         1161\n",
       "Name: genre_name, dtype: int64"
      ]
     },
     "execution_count": 236,
     "metadata": {},
     "output_type": "execute_result"
    }
   ],
   "source": [
    "moscow_genres.head(10)"
   ]
  },
  {
   "cell_type": "markdown",
   "metadata": {
    "colab_type": "text",
    "deletable": false,
    "editable": false,
    "id": "gjnf0lol2fUy",
    "tags": [
     "f7503a48-1b28-483d-9f7b-bae79fb182b5"
    ]
   },
   "source": [
    "Сгруппируем таблицу *spb_general* по жанру, сосчитаем численность композиций каждого жанра методом *count()*, отсортируем в порядке убывания и сохраним результат в таблице *spb_genres*.\n",
    "\n",
    "Просматриваем первые 10 строк этой таблицы. Теперь можно сравнивать два города."
   ]
  },
  {
   "cell_type": "code",
   "execution_count": 237,
   "metadata": {
    "colab": {},
    "colab_type": "code",
    "deletable": false,
    "id": "eQrdA85dB1LO"
   },
   "outputs": [],
   "source": [
    "spb_genres = spb_general.groupby('genre_name')['genre_name'].count().sort_values(ascending=False)"
   ]
  },
  {
   "cell_type": "code",
   "execution_count": 238,
   "metadata": {
    "colab": {},
    "colab_type": "code",
    "deletable": false,
    "id": "AE-Z-1wCB1LS"
   },
   "outputs": [
    {
     "data": {
      "text/plain": [
       "genre_name\n",
       "pop            2431\n",
       "dance          1932\n",
       "rock           1879\n",
       "electronic     1736\n",
       "hiphop          960\n",
       "alternative     649\n",
       "classical       646\n",
       "rusrap          564\n",
       "ruspop          538\n",
       "world           515\n",
       "Name: genre_name, dtype: int64"
      ]
     },
     "execution_count": 238,
     "metadata": {},
     "output_type": "execute_result"
    }
   ],
   "source": [
    "spb_genres.head(10)"
   ]
  },
  {
   "cell_type": "markdown",
   "metadata": {
    "colab_type": "text",
    "deletable": false,
    "id": "J5E-kLgK2piO"
   },
   "source": [
    "**Вывод**"
   ]
  },
  {
   "cell_type": "markdown",
   "metadata": {
    "colab_type": "text",
    "deletable": false,
    "id": "-9R3-Qh02tNt"
   },
   "source": [
    "В Москве, кроме абсолютно популярного жанра поп, есть направление русской популярной музыки. Значит, что интерес к этому жанру шире. А рэп, вопреки предположению, занимает в обоих городах близкие позиции."
   ]
  },
  {
   "cell_type": "markdown",
   "metadata": {
    "colab_type": "text",
    "deletable": false,
    "editable": false,
    "id": "gLlT9nKMQ3ky",
    "tags": [
     "0d44c8c0-390b-4c9e-b797-ddc3993f6e58"
    ]
   },
   "source": [
    "# Этап 4. Результаты исследования\n"
   ]
  },
  {
   "cell_type": "markdown",
   "metadata": {
    "colab_type": "text",
    "deletable": false,
    "id": "GtvyRBbD7dv5"
   },
   "source": [
    "Рабочие гипотезы:\n",
    "\n",
    "* музыку в двух городах — Москве и Санкт-Петербурге — слушают в разном режиме;\n",
    "\n",
    "* списки десяти самых популярных жанров утром в понедельник и вечером в пятницу имеют характерные отличия;\n",
    "\n",
    "* население двух городов предпочитает разные музыкальные жанры.\n",
    "\n",
    "**Общие результаты**\n",
    "\n",
    "Москва и Петербург сходятся во вкусах: везде преобладает популярная музыка. При этом зависимости предпочтений от дня недели в каждом отдельном городе нет — люди постоянно слушают то, что им нравится. Но между городами в разрезе дней неделей наблюдается зеркальность относительно среды: Москва больше слушает в понедельник и пятницу, а Петербург наоборот - больше в среду, но меньше в понедельник и пятницу.\n",
    "\n",
    "В результате первая гипотеза подтверждена, вторая гипотеза не подтверждена и третья не подтверждена."
   ]
  }
 ],
 "metadata": {
  "ExecuteTimeLog": [
   {
    "duration": 595,
    "start_time": "2021-08-29T10:26:22.898Z"
   },
   {
    "duration": 141,
    "start_time": "2021-08-29T10:27:13.983Z"
   },
   {
    "duration": 17,
    "start_time": "2021-08-29T10:27:28.265Z"
   },
   {
    "duration": 23,
    "start_time": "2021-08-29T10:27:40.171Z"
   },
   {
    "duration": 5,
    "start_time": "2021-08-29T10:46:21.648Z"
   },
   {
    "duration": 373,
    "start_time": "2021-08-29T11:26:50.621Z"
   },
   {
    "duration": 3,
    "start_time": "2021-08-29T11:28:10.979Z"
   },
   {
    "duration": 254,
    "start_time": "2021-08-29T11:28:21.065Z"
   },
   {
    "duration": 2,
    "start_time": "2021-08-29T11:28:32.982Z"
   },
   {
    "duration": 256,
    "start_time": "2021-08-29T11:28:44.871Z"
   },
   {
    "duration": 274,
    "start_time": "2021-08-29T11:29:14.254Z"
   },
   {
    "duration": 268,
    "start_time": "2021-08-29T11:29:21.089Z"
   },
   {
    "duration": 3,
    "start_time": "2021-08-29T11:29:32.687Z"
   },
   {
    "duration": 129,
    "start_time": "2021-08-29T11:29:34.053Z"
   },
   {
    "duration": 10,
    "start_time": "2021-08-29T11:29:35.585Z"
   },
   {
    "duration": 24,
    "start_time": "2021-08-29T11:29:38.097Z"
   },
   {
    "duration": 4,
    "start_time": "2021-08-29T11:29:42.274Z"
   },
   {
    "duration": 3,
    "start_time": "2021-08-29T11:29:46.179Z"
   },
   {
    "duration": 262,
    "start_time": "2021-08-29T11:29:47.371Z"
   },
   {
    "duration": 266,
    "start_time": "2021-08-29T11:42:56.775Z"
   },
   {
    "duration": 142,
    "start_time": "2021-08-29T11:43:04.207Z"
   },
   {
    "duration": 11,
    "start_time": "2021-08-29T11:43:05.850Z"
   },
   {
    "duration": 3,
    "start_time": "2021-08-29T11:43:35.826Z"
   },
   {
    "duration": 11,
    "start_time": "2021-08-29T11:43:40.350Z"
   },
   {
    "duration": 11,
    "start_time": "2021-08-29T11:44:11.472Z"
   },
   {
    "duration": 5,
    "start_time": "2021-08-29T11:45:21.948Z"
   },
   {
    "duration": 23,
    "start_time": "2021-08-29T11:45:59.691Z"
   },
   {
    "duration": 21,
    "start_time": "2021-08-29T11:46:08.145Z"
   },
   {
    "duration": 11,
    "start_time": "2021-08-29T11:47:08.867Z"
   },
   {
    "duration": 9,
    "start_time": "2021-08-29T11:48:04.786Z"
   },
   {
    "duration": 22,
    "start_time": "2021-08-29T11:48:31.172Z"
   },
   {
    "duration": 17,
    "start_time": "2021-08-29T12:14:06.435Z"
   },
   {
    "duration": 22,
    "start_time": "2021-08-29T12:14:15.907Z"
   },
   {
    "duration": 57,
    "start_time": "2021-08-29T12:14:34.556Z"
   },
   {
    "duration": 64,
    "start_time": "2021-08-29T12:14:56.237Z"
   },
   {
    "duration": 120,
    "start_time": "2021-08-29T12:15:48.058Z"
   },
   {
    "duration": 54,
    "start_time": "2021-08-29T12:16:14.624Z"
   },
   {
    "duration": 67,
    "start_time": "2021-08-29T12:16:38.027Z"
   },
   {
    "duration": 49,
    "start_time": "2021-08-29T12:16:39.389Z"
   },
   {
    "duration": 5,
    "start_time": "2021-08-29T12:17:43.341Z"
   },
   {
    "duration": 6,
    "start_time": "2021-08-29T12:24:04.098Z"
   },
   {
    "duration": 6,
    "start_time": "2021-08-29T12:24:12.899Z"
   },
   {
    "duration": 3,
    "start_time": "2021-08-29T12:27:53.957Z"
   },
   {
    "duration": 4,
    "start_time": "2021-08-29T12:27:55.331Z"
   },
   {
    "duration": 3,
    "start_time": "2021-08-29T12:28:22.281Z"
   },
   {
    "duration": 218,
    "start_time": "2021-08-29T12:28:23.673Z"
   },
   {
    "duration": 15,
    "start_time": "2021-08-29T12:28:24.909Z"
   },
   {
    "duration": 24,
    "start_time": "2021-08-29T12:28:26.066Z"
   },
   {
    "duration": 4,
    "start_time": "2021-08-29T12:28:28.562Z"
   },
   {
    "duration": 3,
    "start_time": "2021-08-29T12:28:30.454Z"
   },
   {
    "duration": 6,
    "start_time": "2021-08-29T12:28:31.272Z"
   },
   {
    "duration": 39,
    "start_time": "2021-08-29T12:28:33.705Z"
   },
   {
    "duration": 8,
    "start_time": "2021-08-29T12:28:35.076Z"
   },
   {
    "duration": 9,
    "start_time": "2021-08-29T12:28:36.135Z"
   },
   {
    "duration": 23,
    "start_time": "2021-08-29T12:28:37.379Z"
   },
   {
    "duration": 15,
    "start_time": "2021-08-29T12:28:39.537Z"
   },
   {
    "duration": 23,
    "start_time": "2021-08-29T12:28:40.543Z"
   },
   {
    "duration": 74,
    "start_time": "2021-08-29T12:28:43.463Z"
   },
   {
    "duration": 84,
    "start_time": "2021-08-29T12:28:44.764Z"
   },
   {
    "duration": 73,
    "start_time": "2021-08-29T12:28:45.947Z"
   },
   {
    "duration": 6,
    "start_time": "2021-08-29T12:28:48.965Z"
   },
   {
    "duration": 2,
    "start_time": "2021-08-29T12:29:16.771Z"
   },
   {
    "duration": 155,
    "start_time": "2021-08-29T12:29:18.232Z"
   },
   {
    "duration": 10,
    "start_time": "2021-08-29T12:29:19.129Z"
   },
   {
    "duration": 24,
    "start_time": "2021-08-29T12:29:20.205Z"
   },
   {
    "duration": 5,
    "start_time": "2021-08-29T12:29:23.340Z"
   },
   {
    "duration": 3,
    "start_time": "2021-08-29T12:29:25.547Z"
   },
   {
    "duration": 4,
    "start_time": "2021-08-29T12:29:26.636Z"
   },
   {
    "duration": 29,
    "start_time": "2021-08-29T12:29:27.821Z"
   },
   {
    "duration": 9,
    "start_time": "2021-08-29T12:29:29.068Z"
   },
   {
    "duration": 12,
    "start_time": "2021-08-29T12:29:30.504Z"
   },
   {
    "duration": 24,
    "start_time": "2021-08-29T12:29:31.529Z"
   },
   {
    "duration": 21,
    "start_time": "2021-08-29T12:30:46.223Z"
   },
   {
    "duration": 24,
    "start_time": "2021-08-29T12:30:47.274Z"
   },
   {
    "duration": 72,
    "start_time": "2021-08-29T12:30:49.671Z"
   },
   {
    "duration": 65,
    "start_time": "2021-08-29T12:30:51.226Z"
   },
   {
    "duration": 68,
    "start_time": "2021-08-29T12:30:52.789Z"
   },
   {
    "duration": 5,
    "start_time": "2021-08-29T12:30:55.064Z"
   },
   {
    "duration": 3,
    "start_time": "2021-08-29T12:35:29.367Z"
   },
   {
    "duration": 6,
    "start_time": "2021-08-29T12:36:09.331Z"
   },
   {
    "duration": 4,
    "start_time": "2021-08-29T12:36:21.095Z"
   },
   {
    "duration": 3,
    "start_time": "2021-08-29T12:36:30.236Z"
   },
   {
    "duration": 560,
    "start_time": "2021-08-29T12:43:16.578Z"
   },
   {
    "duration": 470,
    "start_time": "2021-08-29T12:43:33.429Z"
   },
   {
    "duration": 3,
    "start_time": "2021-08-29T13:11:36.618Z"
   },
   {
    "duration": 3,
    "start_time": "2021-08-29T13:11:42.688Z"
   },
   {
    "duration": 257,
    "start_time": "2021-08-29T13:12:35.152Z"
   },
   {
    "duration": 3745,
    "start_time": "2021-08-29T13:12:42.050Z"
   },
   {
    "duration": 451,
    "start_time": "2021-08-29T13:13:33.333Z"
   },
   {
    "duration": 16,
    "start_time": "2021-08-29T13:14:26.452Z"
   },
   {
    "duration": 3,
    "start_time": "2021-08-29T13:14:46.378Z"
   },
   {
    "duration": 134,
    "start_time": "2021-08-29T13:14:47.913Z"
   },
   {
    "duration": 9,
    "start_time": "2021-08-29T13:14:49.020Z"
   },
   {
    "duration": 23,
    "start_time": "2021-08-29T13:14:52.164Z"
   },
   {
    "duration": 4,
    "start_time": "2021-08-29T13:14:55.293Z"
   },
   {
    "duration": 3,
    "start_time": "2021-08-29T13:14:57.002Z"
   },
   {
    "duration": 4,
    "start_time": "2021-08-29T13:14:57.861Z"
   },
   {
    "duration": 22,
    "start_time": "2021-08-29T13:15:00.686Z"
   },
   {
    "duration": 8,
    "start_time": "2021-08-29T13:15:04.143Z"
   },
   {
    "duration": 9,
    "start_time": "2021-08-29T13:15:04.933Z"
   },
   {
    "duration": 23,
    "start_time": "2021-08-29T13:15:05.514Z"
   },
   {
    "duration": 15,
    "start_time": "2021-08-29T13:15:08.572Z"
   },
   {
    "duration": 21,
    "start_time": "2021-08-29T13:15:09.833Z"
   },
   {
    "duration": 56,
    "start_time": "2021-08-29T13:15:12.904Z"
   },
   {
    "duration": 62,
    "start_time": "2021-08-29T13:15:14.228Z"
   },
   {
    "duration": 49,
    "start_time": "2021-08-29T13:15:15.112Z"
   },
   {
    "duration": 5,
    "start_time": "2021-08-29T13:15:18.718Z"
   },
   {
    "duration": 3,
    "start_time": "2021-08-29T13:15:19.667Z"
   },
   {
    "duration": 5,
    "start_time": "2021-08-29T13:15:22.588Z"
   },
   {
    "duration": 5,
    "start_time": "2021-08-29T13:15:23.360Z"
   },
   {
    "duration": 5,
    "start_time": "2021-08-29T13:15:24.105Z"
   },
   {
    "duration": 39,
    "start_time": "2021-08-29T13:16:03.900Z"
   },
   {
    "duration": 34,
    "start_time": "2021-08-29T13:16:33.578Z"
   },
   {
    "duration": 35,
    "start_time": "2021-08-29T13:16:34.541Z"
   },
   {
    "duration": 30,
    "start_time": "2021-08-29T13:16:57.225Z"
   },
   {
    "duration": 34,
    "start_time": "2021-08-29T13:17:06.877Z"
   },
   {
    "duration": 33,
    "start_time": "2021-08-29T13:17:39.331Z"
   },
   {
    "duration": 33,
    "start_time": "2021-08-29T13:18:03.644Z"
   },
   {
    "duration": 3,
    "start_time": "2021-08-29T13:18:06.944Z"
   },
   {
    "duration": 30,
    "start_time": "2021-08-29T13:18:07.628Z"
   },
   {
    "duration": 22,
    "start_time": "2021-08-29T13:18:16.562Z"
   },
   {
    "duration": 2,
    "start_time": "2021-08-29T13:19:51.289Z"
   },
   {
    "duration": 30,
    "start_time": "2021-08-29T13:19:52.834Z"
   },
   {
    "duration": 3,
    "start_time": "2021-08-29T13:20:45.137Z"
   },
   {
    "duration": 31,
    "start_time": "2021-08-29T13:20:46.292Z"
   },
   {
    "duration": 3,
    "start_time": "2021-08-29T13:21:26.185Z"
   },
   {
    "duration": 31,
    "start_time": "2021-08-29T13:21:27.241Z"
   },
   {
    "duration": 3,
    "start_time": "2021-08-29T13:28:19.798Z"
   },
   {
    "duration": 36,
    "start_time": "2021-08-29T13:28:30.857Z"
   },
   {
    "duration": 3,
    "start_time": "2021-08-29T13:28:40.330Z"
   },
   {
    "duration": 29,
    "start_time": "2021-08-29T13:28:41.165Z"
   },
   {
    "duration": 4,
    "start_time": "2021-08-29T13:28:42.969Z"
   },
   {
    "duration": 4,
    "start_time": "2021-08-29T13:28:43.873Z"
   },
   {
    "duration": 3,
    "start_time": "2021-08-29T13:30:03.367Z"
   },
   {
    "duration": 3,
    "start_time": "2021-08-29T13:30:05.100Z"
   },
   {
    "duration": 32,
    "start_time": "2021-08-29T13:30:07.586Z"
   },
   {
    "duration": 3,
    "start_time": "2021-08-29T13:30:24.273Z"
   },
   {
    "duration": 65,
    "start_time": "2021-08-29T13:30:25.204Z"
   },
   {
    "duration": 3,
    "start_time": "2021-08-29T13:31:20.678Z"
   },
   {
    "duration": 38,
    "start_time": "2021-08-29T13:31:21.522Z"
   },
   {
    "duration": 3,
    "start_time": "2021-08-29T13:31:31.885Z"
   },
   {
    "duration": 44,
    "start_time": "2021-08-29T13:31:32.678Z"
   },
   {
    "duration": 3,
    "start_time": "2021-08-29T13:32:02.761Z"
   },
   {
    "duration": 38,
    "start_time": "2021-08-29T13:32:03.541Z"
   },
   {
    "duration": 4,
    "start_time": "2021-08-29T13:32:35.049Z"
   },
   {
    "duration": 38,
    "start_time": "2021-08-29T13:32:35.765Z"
   },
   {
    "duration": 3,
    "start_time": "2021-08-29T13:32:41.402Z"
   },
   {
    "duration": 43,
    "start_time": "2021-08-29T13:32:42.203Z"
   },
   {
    "duration": 3,
    "start_time": "2021-08-29T13:32:57.721Z"
   },
   {
    "duration": 39,
    "start_time": "2021-08-29T13:32:58.581Z"
   },
   {
    "duration": 4,
    "start_time": "2021-08-29T13:33:32.753Z"
   },
   {
    "duration": 46,
    "start_time": "2021-08-29T13:33:33.457Z"
   },
   {
    "duration": 4,
    "start_time": "2021-08-29T13:33:50.291Z"
   },
   {
    "duration": 35,
    "start_time": "2021-08-29T13:33:51.051Z"
   },
   {
    "duration": 3,
    "start_time": "2021-08-29T13:33:58.524Z"
   },
   {
    "duration": 31,
    "start_time": "2021-08-29T13:33:59.293Z"
   },
   {
    "duration": 3,
    "start_time": "2021-08-29T13:34:07.731Z"
   },
   {
    "duration": 32,
    "start_time": "2021-08-29T13:34:08.456Z"
   },
   {
    "duration": 3,
    "start_time": "2021-08-29T13:34:29.806Z"
   },
   {
    "duration": 34,
    "start_time": "2021-08-29T13:34:30.853Z"
   },
   {
    "duration": 3,
    "start_time": "2021-08-29T13:34:58.425Z"
   },
   {
    "duration": 32,
    "start_time": "2021-08-29T13:34:59.041Z"
   },
   {
    "duration": 3,
    "start_time": "2021-08-29T13:36:16.687Z"
   },
   {
    "duration": 32,
    "start_time": "2021-08-29T13:36:17.426Z"
   },
   {
    "duration": 3,
    "start_time": "2021-08-29T13:37:40.530Z"
   },
   {
    "duration": 31,
    "start_time": "2021-08-29T13:37:41.501Z"
   },
   {
    "duration": 3,
    "start_time": "2021-08-29T13:38:10.806Z"
   },
   {
    "duration": 35,
    "start_time": "2021-08-29T13:38:12.369Z"
   },
   {
    "duration": 3,
    "start_time": "2021-08-29T13:38:45.968Z"
   },
   {
    "duration": 31,
    "start_time": "2021-08-29T13:38:46.686Z"
   },
   {
    "duration": 3,
    "start_time": "2021-08-29T13:39:08.984Z"
   },
   {
    "duration": 34,
    "start_time": "2021-08-29T13:39:09.775Z"
   },
   {
    "duration": 3,
    "start_time": "2021-08-29T13:42:22.668Z"
   },
   {
    "duration": 3556,
    "start_time": "2021-08-29T13:42:23.567Z"
   },
   {
    "duration": 2,
    "start_time": "2021-08-29T13:42:45.928Z"
   },
   {
    "duration": 4189,
    "start_time": "2021-08-29T13:42:46.732Z"
   },
   {
    "duration": 3,
    "start_time": "2021-08-29T13:45:56.813Z"
   },
   {
    "duration": 38,
    "start_time": "2021-08-29T13:45:57.775Z"
   },
   {
    "duration": 3,
    "start_time": "2021-08-29T13:46:25.818Z"
   },
   {
    "duration": 41,
    "start_time": "2021-08-29T13:46:26.628Z"
   },
   {
    "duration": 3,
    "start_time": "2021-08-29T13:48:02.691Z"
   },
   {
    "duration": 33,
    "start_time": "2021-08-29T13:48:03.325Z"
   },
   {
    "duration": 3,
    "start_time": "2021-08-29T13:49:19.082Z"
   },
   {
    "duration": 34,
    "start_time": "2021-08-29T13:49:19.775Z"
   },
   {
    "duration": 3,
    "start_time": "2021-08-29T13:50:17.311Z"
   },
   {
    "duration": 84,
    "start_time": "2021-08-29T13:51:16.338Z"
   },
   {
    "duration": 3,
    "start_time": "2021-08-29T13:51:22.770Z"
   },
   {
    "duration": 3,
    "start_time": "2021-08-29T13:55:35.474Z"
   },
   {
    "duration": 3,
    "start_time": "2021-08-29T13:56:12.516Z"
   },
   {
    "duration": 3,
    "start_time": "2021-08-29T13:57:13.216Z"
   },
   {
    "duration": 3,
    "start_time": "2021-08-29T14:02:39.021Z"
   },
   {
    "duration": 35,
    "start_time": "2021-08-29T14:02:50.172Z"
   },
   {
    "duration": 3,
    "start_time": "2021-08-29T14:42:12.018Z"
   },
   {
    "duration": 9,
    "start_time": "2021-08-29T14:42:13.292Z"
   },
   {
    "duration": 32,
    "start_time": "2021-08-29T14:55:30.646Z"
   },
   {
    "duration": 15,
    "start_time": "2021-08-29T14:55:50.295Z"
   },
   {
    "duration": 10,
    "start_time": "2021-08-29T14:57:44.952Z"
   },
   {
    "duration": 9,
    "start_time": "2021-08-29T14:59:07.342Z"
   },
   {
    "duration": 4,
    "start_time": "2021-08-29T15:04:22.115Z"
   },
   {
    "duration": 18,
    "start_time": "2021-08-29T15:04:23.076Z"
   },
   {
    "duration": 14,
    "start_time": "2021-08-29T15:04:24.822Z"
   },
   {
    "duration": 14,
    "start_time": "2021-08-29T15:04:25.898Z"
   },
   {
    "duration": 21,
    "start_time": "2021-08-29T15:04:27.359Z"
   },
   {
    "duration": 15,
    "start_time": "2021-08-29T15:04:28.352Z"
   },
   {
    "duration": 13,
    "start_time": "2021-08-29T15:04:29.201Z"
   },
   {
    "duration": 330,
    "start_time": "2021-08-29T15:08:11.449Z"
   },
   {
    "duration": 331,
    "start_time": "2021-08-29T15:09:01.812Z"
   },
   {
    "duration": 61,
    "start_time": "2021-08-29T15:10:43.036Z"
   },
   {
    "duration": 287,
    "start_time": "2021-08-29T15:16:18.271Z"
   },
   {
    "duration": 26,
    "start_time": "2021-08-29T15:17:05.828Z"
   },
   {
    "duration": 25,
    "start_time": "2021-08-29T15:17:25.679Z"
   },
   {
    "duration": 11,
    "start_time": "2021-08-29T15:18:12.957Z"
   },
   {
    "duration": 8,
    "start_time": "2021-08-29T15:18:14.058Z"
   },
   {
    "duration": 3,
    "start_time": "2021-08-29T15:24:07.302Z"
   },
   {
    "duration": 609,
    "start_time": "2021-08-29T15:34:16.072Z"
   },
   {
    "duration": 592,
    "start_time": "2021-08-29T15:34:30.379Z"
   },
   {
    "duration": 1303,
    "start_time": "2021-08-29T15:35:01.153Z"
   },
   {
    "duration": 1328,
    "start_time": "2021-08-29T15:36:21.988Z"
   },
   {
    "duration": 531,
    "start_time": "2021-08-29T15:37:23.266Z"
   },
   {
    "duration": 498,
    "start_time": "2021-08-29T15:38:39.056Z"
   },
   {
    "duration": 514,
    "start_time": "2021-08-29T15:41:57.919Z"
   },
   {
    "duration": 515,
    "start_time": "2021-08-29T15:44:08.837Z"
   },
   {
    "duration": 532,
    "start_time": "2021-08-29T15:44:40.203Z"
   },
   {
    "duration": 4,
    "start_time": "2021-08-29T15:58:05.140Z"
   },
   {
    "duration": 518,
    "start_time": "2021-08-29T15:58:06.371Z"
   },
   {
    "duration": 3,
    "start_time": "2021-08-29T15:59:00.803Z"
   },
   {
    "duration": 536,
    "start_time": "2021-08-29T15:59:02.395Z"
   },
   {
    "duration": 3,
    "start_time": "2021-08-29T16:00:11.462Z"
   },
   {
    "duration": 535,
    "start_time": "2021-08-29T16:00:12.968Z"
   },
   {
    "duration": 3,
    "start_time": "2021-08-29T16:01:07.993Z"
   },
   {
    "duration": 19,
    "start_time": "2021-08-29T16:01:08.970Z"
   },
   {
    "duration": 12,
    "start_time": "2021-08-29T16:01:16.350Z"
   },
   {
    "duration": 19,
    "start_time": "2021-08-29T16:01:17.432Z"
   },
   {
    "duration": 12,
    "start_time": "2021-08-29T16:01:18.456Z"
   },
   {
    "duration": 8,
    "start_time": "2021-08-29T16:04:47.681Z"
   },
   {
    "duration": 5,
    "start_time": "2021-08-29T16:04:48.661Z"
   },
   {
    "duration": 7,
    "start_time": "2021-08-29T16:05:41.261Z"
   },
   {
    "duration": 5,
    "start_time": "2021-08-29T16:05:42.102Z"
   }
  ],
  "kernelspec": {
   "display_name": "Python 3",
   "language": "python",
   "name": "python3"
  },
  "language_info": {
   "codemirror_mode": {
    "name": "ipython",
    "version": 3
   },
   "file_extension": ".py",
   "mimetype": "text/x-python",
   "name": "python",
   "nbconvert_exporter": "python",
   "pygments_lexer": "ipython3",
   "version": "3.8.8"
  },
  "toc": {
   "base_numbering": 1,
   "nav_menu": {},
   "number_sections": true,
   "sideBar": true,
   "skip_h1_title": true,
   "title_cell": "Table of Contents",
   "title_sidebar": "Contents",
   "toc_cell": false,
   "toc_position": {},
   "toc_section_display": true,
   "toc_window_display": false
  }
 },
 "nbformat": 4,
 "nbformat_minor": 1
}
